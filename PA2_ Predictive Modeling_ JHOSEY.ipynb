{
 "cells": [
  {
   "cell_type": "code",
   "execution_count": null,
   "id": "93b332d8-f794-4a8f-b1ae-46425e6eb55a",
   "metadata": {},
   "outputs": [],
   "source": [
    "import pandas as pd\n",
    "from pandas.api.types import CategoricalDtype\n",
    "import numpy as np\n",
    "import matplotlib.pyplot as plt\n",
    "import seaborn as sns\n",
    "from scipy import stats\n",
    "import statsmodels.api as sm\n",
    "from statsmodels.stats.outliers_influence import variance_inflation_factor\n",
    "from statsmodels.graphics.mosaicplot import mosaic\n",
    "from sklearn import preprocessing\n",
    "from sklearn.linear_model import LogisticRegression\n",
    "from sklearn.model_selection import train_test_split\n",
    "from sklearn.metrics import confusion_matrix"
   ]
  },
  {
   "cell_type": "code",
   "execution_count": null,
   "id": "48fea17c-822b-49c7-ab32-6df1d46041aa",
   "metadata": {},
   "outputs": [],
   "source": [
    "#Read Dataset\n",
    "df = pd.read_csv('./medical_clean.csv', index_col=0)\n",
    "#Verifying data, data types, and size of dataset.\n",
    "df.info()"
   ]
  },
  {
   "cell_type": "code",
   "execution_count": null,
   "id": "3d6d80ef-3302-481e-a387-3d21b1addc9b",
   "metadata": {},
   "outputs": [],
   "source": [
    "#Detecting any issues with data\n",
    "df.head(5)"
   ]
  },
  {
   "cell_type": "markdown",
   "id": "b0cd38ca-f574-4a6f-a2e2-115674c4b4d7",
   "metadata": {},
   "source": [
    "#C2 Summary Stats for Variables"
   ]
  },
  {
   "cell_type": "code",
   "execution_count": null,
   "id": "a8ee97e1-e824-47eb-911d-b0f504024c10",
   "metadata": {},
   "outputs": [],
   "source": [
    "#Dependent Variable\n",
    "df.Soft_drink.value_counts()"
   ]
  },
  {
   "cell_type": "code",
   "execution_count": null,
   "id": "91f3963f-3bda-4168-bb2d-b4e787bf210d",
   "metadata": {},
   "outputs": [],
   "source": [
    "#Independent Variables to follow:\n",
    "df.Age.describe()"
   ]
  },
  {
   "cell_type": "code",
   "execution_count": null,
   "id": "15c71aac-6639-4671-b48f-61f07852d098",
   "metadata": {},
   "outputs": [],
   "source": [
    "df.Gender.value_counts()"
   ]
  },
  {
   "cell_type": "code",
   "execution_count": null,
   "id": "a04cbcdb-eff5-4961-b8a6-d1f734bfe8d8",
   "metadata": {},
   "outputs": [],
   "source": [
    "df.VitD_levels.describe()"
   ]
  },
  {
   "cell_type": "code",
   "execution_count": null,
   "id": "b5a1503d-1da3-46a4-9d44-654fa69d687a",
   "metadata": {},
   "outputs": [],
   "source": [
    "df.Doc_visits.describe()"
   ]
  },
  {
   "cell_type": "code",
   "execution_count": null,
   "id": "8eba7620-4a7c-45d4-818e-5bac3c5ca8a8",
   "metadata": {},
   "outputs": [],
   "source": [
    "df.Initial_admin.value_counts().sort_index()"
   ]
  },
  {
   "cell_type": "code",
   "execution_count": null,
   "id": "c83e4746-adf4-4b16-a527-aa1b82b5a871",
   "metadata": {},
   "outputs": [],
   "source": [
    "df.Complication_risk.value_counts().sort_index()"
   ]
  },
  {
   "cell_type": "code",
   "execution_count": null,
   "id": "f1aeec22-8ae8-4c94-a75e-55248904eb45",
   "metadata": {},
   "outputs": [],
   "source": [
    "df.Arthritis.value_counts()"
   ]
  },
  {
   "cell_type": "code",
   "execution_count": null,
   "id": "013b69b9-2f15-446e-8692-ebf959e1e9f9",
   "metadata": {},
   "outputs": [],
   "source": [
    "df.Diabetes.value_counts()"
   ]
  },
  {
   "cell_type": "code",
   "execution_count": null,
   "id": "72d08d29-3b04-4eab-9e39-7cd822beeca5",
   "metadata": {},
   "outputs": [],
   "source": [
    "df.BackPain.value_counts()"
   ]
  },
  {
   "cell_type": "code",
   "execution_count": null,
   "id": "899c8077-ba3d-4345-b769-51e1c75d985d",
   "metadata": {},
   "outputs": [],
   "source": [
    "df.TotalCharge.describe()"
   ]
  },
  {
   "cell_type": "code",
   "execution_count": null,
   "id": "49f7db00-1836-4433-abe6-a8c96ccd5d44",
   "metadata": {},
   "outputs": [],
   "source": [
    "df.Initial_days.describe()"
   ]
  },
  {
   "cell_type": "code",
   "execution_count": null,
   "id": "eecc06b4-b083-45d4-8068-a1d58bb88b78",
   "metadata": {},
   "outputs": [],
   "source": [
    "df.Hyperlipidemia.value_counts()"
   ]
  },
  {
   "cell_type": "code",
   "execution_count": null,
   "id": "e898515a-fb97-47b0-be50-28497f0c04b1",
   "metadata": {},
   "outputs": [],
   "source": [
    "df.Anxiety.value_counts()"
   ]
  },
  {
   "cell_type": "code",
   "execution_count": null,
   "id": "ced57b0d-010f-4798-9ffc-44802b6ebbc8",
   "metadata": {},
   "outputs": [],
   "source": [
    "df.Overweight.value_counts()"
   ]
  },
  {
   "cell_type": "code",
   "execution_count": null,
   "id": "f9723b64-3419-4c78-853d-350881bfb908",
   "metadata": {},
   "outputs": [],
   "source": [
    "df.Stroke.value_counts()"
   ]
  },
  {
   "cell_type": "code",
   "execution_count": null,
   "id": "d202c24a-ead5-4fd2-a92e-670be5ebec56",
   "metadata": {},
   "outputs": [],
   "source": [
    "df.HighBlood.value_counts()"
   ]
  },
  {
   "cell_type": "code",
   "execution_count": null,
   "id": "4c8fe3f9-64fd-40bb-9191-ecb0d9cf1a95",
   "metadata": {},
   "outputs": [],
   "source": [
    "df.Asthma.value_counts()"
   ]
  },
  {
   "cell_type": "code",
   "execution_count": null,
   "id": "572a48b2-0fba-4bf4-877e-ac89ee891c6a",
   "metadata": {},
   "outputs": [],
   "source": [
    "# Convert column to category from string\n",
    "df[\"TimeZone\"] = df[\"TimeZone\"].astype(\"category\")\n",
    "# Reformat column representing currency in USD to 3 decimal places from 6\n",
    "df[\"Income\"] = df[\"Income\"].astype(int)\n",
    "# Convert column to category from string\n",
    "df[\"Marital\"] = df[\"Marital\"].astype(\"category\")\n",
    "# Convert column to category from string\n",
    "df[\"Gender\"] = df[\"Gender\"].astype(\"category\")\n",
    "# Recast object > boolean wants to turn everything True, need to map Yes/No to True/False\n",
    "bool_mapping = {\"Yes\" : 1, \"No\" : 0}\n",
    "# Convert column to boolean from string\n",
    "df[\"ReAdmis\"] = df[\"ReAdmis\"].map(bool_mapping)\n",
    "# Convert column to boolean from string\n",
    "df[\"Soft_drink\"] = df[\"Soft_drink\"].map(bool_mapping)\n",
    "# Convert column to category from string\n",
    "df[\"Initial_admin\"] = df[\"Initial_admin\"].astype(\"category\")\n",
    "# Convert column to boolean from string\n",
    "df[\"HighBlood\"] = df[\"HighBlood\"].map(bool_mapping)\n",
    "# Convert column to boolean from string\n",
    "df[\"Stroke\"] = df[\"Stroke\"].map(bool_mapping)\n",
    "# Convert column to category from string\n",
    "df[\"Complication_risk\"] = df[\"Complication_risk\"].astype(\"category\")\n",
    "# Convert column to boolean from string\n",
    "df[\"Overweight\"] = df[\"Overweight\"].map(bool_mapping)\n",
    "# Convert column to boolean from string\n",
    "df[\"Arthritis\"] = df[\"Arthritis\"].map(bool_mapping)\n",
    "# Convert column to boolean from string\n",
    "df[\"Diabetes\"] = df[\"Diabetes\"].map(bool_mapping)\n",
    "# Convert column to boolean from string\n",
    "df[\"Hyperlipidemia\"] = df[\"Hyperlipidemia\"].map(bool_mapping)\n",
    "# Convert column to boolean from string\n",
    "df[\"BackPain\"] = df[\"BackPain\"].map(bool_mapping)\n",
    "# Convert column to boolean from string\n",
    "df[\"Anxiety\"] = df[\"Anxiety\"].map(bool_mapping)\n",
    "# Convert column to boolean from string\n",
    "df[\"Allergic_rhinitis\"] = df[\"Allergic_rhinitis\"].map(bool_mapping)\n",
    "# Convert column to boolean from string\n",
    "df[\"Reflux_esophagitis\"] = df[\"Reflux_esophagitis\"].map(bool_mapping)\n",
    "# Convert column to boolean from string\n",
    "df[\"Asthma\"] = df[\"Asthma\"].map(bool_mapping)\n",
    "# Convert column to category from string\n",
    "df[\"Services\"] = df[\"Services\"].astype(\"category\")\n",
    "# Reformat column representing currency in USD to 3 decimal places from 6\n",
    "df[\"TotalCharge\"] = df.TotalCharge.round(3)\n",
    "# Reformat column representing currency in USD to 3 decimal places from 6\n",
    "df[\"Additional_charges\"] = df.Additional_charges.round(3)\n",
    "# Establish map for reversing survey questions to reflect a truth where 1 < 8 (currently the reverse)\n",
    "survey_mapping = {1: 8, 2: 7, 3 : 6, 4: 5, 5: 4, 6: 3, 7 : 2, 8 : 1}\n",
    "# Establish ordered categorical datatype structure (\"1\" < \"2\" < ... < \"7\" < \"8\") for survey response columns\n",
    "survey_scores = CategoricalDtype(categories=[\"1\", \"2\", \"3\", \"4\", \"5\", \"6\", \"7\", \"8\"], ordered=True)\n",
    "# Remap column to reflect 1 < 8, rather than 1 > 8\n",
    "df[\"Item1\"] = df[\"Item1\"].map(survey_mapping)\n",
    "# Map integers to be strings instead (conversion from int > ordered categorical will act up without this)\n",
    "df[\"Item1\"] = df[\"Item1\"].map(str)\n",
    "# Reassign datatype from strings to created survey_scores datatype \n",
    "df[\"Item1\"] = df[\"Item1\"].astype(survey_scores)\n",
    "# Remap column to reflect 1 < 8, rather than 1 > 8\n",
    "df[\"Item2\"] = df[\"Item2\"].map(survey_mapping)\n",
    "# Map integers to be strings instead (conversion from int > ordered categorical will act up without this)\n",
    "df[\"Item2\"] = df[\"Item2\"].map(str)\n",
    "# Reassign datatype from strings to created survey_scores datatype \n",
    "df[\"Item2\"] = df[\"Item2\"].astype(survey_scores)\n",
    "# Remap column to reflect 1 < 8, rather than 1 > 8\n",
    "df[\"Item3\"] = df[\"Item3\"].map(survey_mapping)\n",
    "# Map integers to be strings instead (conversion from int > ordered categorical will act up without this)\n",
    "df[\"Item3\"] = df[\"Item3\"].map(str)\n",
    "# Reassign datatype from strings to created survey_scores datatype \n",
    "df[\"Item3\"] = df[\"Item3\"].astype(survey_scores)\n",
    "# Remap column to reflect 1 < 8, rather than 1 > 8\n",
    "df[\"Item4\"] = df[\"Item4\"].map(survey_mapping)\n",
    "# Map integers to be strings instead (conversion from int > ordered categorical will act up without this)\n",
    "df[\"Item4\"] = df[\"Item4\"].map(str)\n",
    "# Reassign datatype from strings to created survey_scores datatype \n",
    "df[\"Item4\"] = df[\"Item4\"].astype(survey_scores)\n",
    "# Remap column to reflect 1 < 8, rather than 1 > 8\n",
    "df[\"Item5\"] = df[\"Item5\"].map(survey_mapping)\n",
    "# Map integers to be strings instead (conversion from int > ordered categorical will act up without this)\n",
    "df[\"Item5\"] = df[\"Item5\"].map(str)\n",
    "# Reassign datatype from strings to created survey_scores datatype \n",
    "df[\"Item5\"] = df[\"Item5\"].astype(survey_scores)\n",
    "# Remap column to reflect 1 < 8, rather than 1 > 8\n",
    "df[\"Item6\"] = df[\"Item6\"].map(survey_mapping)\n",
    "# Map integers to be strings instead (conversion from int > ordered categorical will act up without this)\n",
    "df[\"Item6\"] = df[\"Item6\"].map(str)\n",
    "# Reassign datatype from strings to created survey_scores datatype \n",
    "df[\"Item6\"] = df[\"Item6\"].astype(survey_scores)\n",
    "# Remap column to reflect 1 < 8, rather than 1 > 8\n",
    "df[\"Item7\"] = df[\"Item7\"].map(survey_mapping)\n",
    "# Map integers to be strings instead (conversion from int > ordered categorical will act up without this)\n",
    "df[\"Item7\"] = df[\"Item7\"].map(str)\n",
    "# Reassign datatype from strings to created survey_scores datatype \n",
    "df[\"Item7\"] = df[\"Item7\"].astype(survey_scores)\n",
    "# Remap column to reflect 1 < 8, rather than 1 > 8\n",
    "df[\"Item8\"] = df[\"Item8\"].map(survey_mapping)\n",
    "# Map integers to be strings instead (conversion from int > ordered categorical will act up without this)\n",
    "df[\"Item8\"] = df[\"Item8\"].map(str)\n",
    "# Reassign datatype from strings to created survey_scores datatype \n",
    "df[\"Item8\"] = df[\"Item8\"].astype(survey_scores)\n",
    "\n",
    "#Generate columns of dummy values for Gender column\n",
    "gender_temp_df = pd.get_dummies(data=df[\"Gender\"], drop_first=True)\n",
    "#Generate columns of dummy values for Initial_admin column\n",
    "initial_admit_temp_df = pd.get_dummies(data=df[\"Initial_admin\"], drop_first=True)\n",
    "#Generate columns of dummy values for Complication_risk column\n",
    "comp_risk_temp_df = pd.get_dummies(data=df[\"Complication_risk\"], drop_first=True)\n",
    "\n",
    "#Create new df with the variables we're interested in\n",
    "logregress_df = df[[\"Age\", \"VitD_levels\", \"Doc_visits\", \"Soft_drink\", \"HighBlood\", \"Stroke\",\n",
    "                 \"Overweight\", \"Arthritis\", \"Diabetes\", \"Hyperlipidemia\", \n",
    "                \"BackPain\", \"Anxiety\", \"Asthma\", \"Initial_days\", \"TotalCharge\"]]\n",
    "\n",
    "#Insert the generated dummy variables to new dataframe\n",
    "#Dummies for Complication Risk\n",
    "logregress_df.insert(8, \"comp_risk_medium\", comp_risk_temp_df.Medium)\n",
    "logregress_df.insert(8, \"comp_risk_low\", comp_risk_temp_df.Low)\n",
    "\n",
    "#Dummies for Initial Admit\n",
    "logregress_df.insert(5, \"initial_admit_emerg\", initial_admit_temp_df[\"Emergency Admission\"])\n",
    "logregress_df.insert(5, \"initial_admit_observ\", initial_admit_temp_df[\"Observation Admission\"])\n",
    "\n",
    "#Dummies for Gender\n",
    "logregress_df.insert(1, \"gender_nonbinary\", gender_temp_df.Male)\n",
    "logregress_df.insert(1, \"gender_male\", gender_temp_df.Male)\n",
    "\n",
    "#Check resulting dataframe\n",
    "logregress_df"
   ]
  },
  {
   "cell_type": "code",
   "execution_count": null,
   "id": "06c0d82e-f337-4d53-87c1-96d576fb7af0",
   "metadata": {},
   "outputs": [],
   "source": [
    "#C3 Univariate visualizations - this one is for Dependent Variable\n",
    "plt.figure(figsize = [16,5])\n",
    "colors = ['#8EB897', '#B7C3F3', '#DD7596']\n",
    "plt.title('Distribution of the Number of Patients Who Drink Soft Drinks')\n",
    "Soft_drink_counts = logregress_df.Soft_drink.value_counts()\n",
    "Soft_drink_labels = Soft_drink_counts.index.map({1: \"Yes\", 0: \"No\"})\n",
    "plt.pie(Soft_drink_counts, labels=Soft_drink_labels, autopct='%1.1f%%', startangle=90, counterclock=False, colors=colors)\n",
    "plt.axis('square');\n",
    "\n",
    "plt.figure(figsize = [16,5])\n",
    "colors = ['#8EB897', '#B7C3F3', '#DD7596']\n",
    "plt.title('Distribution of Patients Who Identify as Male')\n",
    "Gender_counts = logregress_df.gender_male.value_counts()\n",
    "Gender_labels = [\"True\", \"False\"]\n",
    "plt.pie(Gender_counts, labels=Gender_labels, autopct='%1.1f%%', startangle=90, counterclock=False, colors=colors)\n",
    "plt.axis('square');\n",
    "\n",
    "plt.figure(figsize = [16,5])\n",
    "colors = ['#8EB897', '#B7C3F3', '#DD7596']\n",
    "plt.title('Distribution of Patients Who Identify as Nonbinary')\n",
    "Gender_counts = logregress_df.gender_nonbinary.value_counts()\n",
    "Gender_labels = [\"True\", \"False\"]\n",
    "plt.pie(Gender_counts, labels=Gender_labels, autopct='%1.1f%%', startangle=90, counterclock=False, colors=colors)\n",
    "plt.axis('square');\n",
    "\n",
    "plt.figure(figsize = [16,5])\n",
    "colors = ['#8EB897', '#B7C3F3', '#DD7596']\n",
    "plt.title('Distribution of Overweight Patients')\n",
    "Overweight_counts = logregress_df.Overweight.value_counts()\n",
    "Overweight_labels = Overweight_counts.index.map({1: \"Yes\", 0: \"No\"})\n",
    "plt.pie(Overweight_counts, labels=Overweight_labels, autopct='%1.1f%%', startangle=90, counterclock=False, colors=colors)\n",
    "plt.axis('square');\n",
    "\n",
    "plt.figure(figsize = [16,5])\n",
    "colors = ['#8EB897', '#B7C3F3', '#DD7596']\n",
    "plt.title('Distribution of Patients With Hyperlipidemia')\n",
    "Hyperlipidemia_counts = logregress_df.Hyperlipidemia.value_counts()\n",
    "Hyperlipidemia_labels = Hyperlipidemia_counts.index.map({1: \"Yes\", 0: \"No\"})\n",
    "plt.pie(Hyperlipidemia_counts, labels=Hyperlipidemia_labels, autopct='%1.1f%%', startangle=90, counterclock=False, colors=colors)\n",
    "plt.axis('square');\n",
    "\n",
    "plt.figure(figsize = [16,5])\n",
    "colors = ['#8EB897', '#B7C3F3', '#DD7596']\n",
    "plt.title('Distribution of Patients With Anxiety')\n",
    "Anxiety_counts = logregress_df.Anxiety.value_counts()\n",
    "Anxiety_labels = Anxiety_counts.index.map({1: \"Yes\", 0: \"No\"})\n",
    "plt.pie(Anxiety_counts, labels=Anxiety_labels, autopct='%1.1f%%', startangle=90, counterclock=False, colors=colors)\n",
    "plt.axis('square');\n",
    "\n",
    "plt.figure(figsize = [16,5])\n",
    "colors = ['#8EB897', '#B7C3F3', '#DD7596']\n",
    "plt.title('Distribution of Patients With High Blood Pressure')\n",
    "HighBlood_counts = logregress_df.HighBlood.value_counts()\n",
    "HighBlood_labels = HighBlood_counts.index.map({1: \"Yes\", 0: \"No\"})\n",
    "plt.pie(HighBlood_counts, labels=HighBlood_labels, autopct='%1.1f%%', startangle=90, counterclock=False, colors=colors)\n",
    "plt.axis('square');\n",
    "\n",
    "plt.figure(figsize = [16,5])\n",
    "colors = ['#8EB897', '#B7C3F3', '#DD7596']\n",
    "plt.title('Distribution of Patients Who Have Had a Stroke')\n",
    "Stroke_counts = logregress_df.Stroke.value_counts()\n",
    "Stroke_labels = Stroke_counts.index.map({1: \"Yes\", 0: \"No\"})\n",
    "plt.pie(Stroke_counts, labels=Stroke_labels, autopct='%1.1f%%', startangle=90, counterclock=False, colors=colors)\n",
    "plt.axis('square');\n",
    "\n",
    "plt.figure(figsize = [16,5])\n",
    "colors = ['#8EB897', '#B7C3F3', '#DD7596']\n",
    "plt.title('Distribution of Initial Admission Reason')\n",
    "initial_admit_observ_counts = logregress_df.initial_admit_observ.value_counts()\n",
    "initial_admit_observ_labels = [\"True\", \"False\"]\n",
    "plt.pie(initial_admit_observ_counts, labels=initial_admit_observ_labels, autopct='%1.1f%%', startangle=90, counterclock=False, colors=colors)\n",
    "plt.axis('square');\n",
    "\n",
    "plt.figure(figsize = [16,5])\n",
    "colors = ['#8EB897', '#B7C3F3', '#DD7596']\n",
    "plt.title('Distribution of Initial Admission Reason')\n",
    "initial_admit_emerg_counts = logregress_df.initial_admit_emerg.value_counts()\n",
    "initial_admit_emerg_labels = [\"True\", \"False\"]\n",
    "plt.pie(initial_admit_observ_counts, labels=initial_admit_emerg_labels, autopct='%1.1f%%', startangle=90, counterclock=False, colors=colors)\n",
    "plt.axis('square');\n",
    "\n",
    "plt.figure(figsize = [16,5])\n",
    "colors = ['#8EB897', '#B7C3F3', '#DD7596']\n",
    "plt.title('Distribution of Patients Who Have a Low Complication Risk')\n",
    "comp_risk_low_counts = logregress_df.comp_risk_low.value_counts()\n",
    "comp_risk_low_labels = [\"True\", \"False\"]\n",
    "plt.pie(comp_risk_low_counts, labels=comp_risk_low_labels, autopct='%1.1f%%', startangle=90, counterclock=False, colors=colors)\n",
    "plt.axis('square');\n",
    "\n",
    "plt.figure(figsize = [16,5])\n",
    "colors = ['#8EB897', '#B7C3F3', '#DD7596']\n",
    "plt.title('Distribution of Patients Who Have a Medium Complication Risk')\n",
    "comp_risk_medium_counts = logregress_df.comp_risk_medium.value_counts()\n",
    "comp_risk_medium_labels = [\"True\", \"False\"]\n",
    "plt.pie(comp_risk_medium_counts, labels=comp_risk_medium_labels, autopct='%1.1f%%', startangle=90, counterclock=False, colors=colors)\n",
    "plt.axis('square');\n",
    "\n",
    "plt.figure(figsize = [16,5])\n",
    "colors = ['#8EB897', '#B7C3F3', '#DD7596']\n",
    "plt.title('Distribution of Patients Who Have Arthritis')\n",
    "Arthritis_counts = logregress_df.Arthritis.value_counts()\n",
    "Arthritis_labels = Arthritis_counts.index.map({1: \"Yes\", 0: \"No\"})\n",
    "plt.pie(Arthritis_counts, labels=Arthritis_labels, autopct='%1.1f%%', startangle=90, counterclock=False, colors=colors)\n",
    "plt.axis('square');\n",
    "\n",
    "plt.figure(figsize = [16,5])\n",
    "colors = ['#8EB897', '#B7C3F3', '#DD7596']\n",
    "plt.title('Distribution of Patients Who Have Diabetes')\n",
    "Diabetes_counts = logregress_df.Diabetes.value_counts()\n",
    "Diabetes_labels = Diabetes_counts.index.map({1: \"Yes\", 0: \"No\"})\n",
    "plt.pie(Diabetes_counts, labels=Diabetes_labels, autopct='%1.1f%%', startangle=90, counterclock=False, colors=colors)\n",
    "plt.axis('square');\n",
    "\n",
    "plt.figure(figsize = [16,5])\n",
    "colors = ['#8EB897', '#B7C3F3', '#DD7596']\n",
    "plt.title('Distribution of Patients Who Have Back Pain')\n",
    "BackPain_counts = logregress_df.BackPain.value_counts()\n",
    "BackPain_labels = BackPain_counts.index.map({1: \"Yes\", 0: \"No\"})\n",
    "plt.pie(BackPain_counts, labels=BackPain_labels, autopct='%1.1f%%', startangle=90, counterclock=False, colors=colors)\n",
    "plt.axis('square');"
   ]
  },
  {
   "cell_type": "code",
   "execution_count": null,
   "id": "9a4a0049-13aa-48eb-8d1c-156727e72db4",
   "metadata": {},
   "outputs": [],
   "source": [
    "#C3 Univariate Visualizations for Independent Variables - Continuous Variables\n",
    "sns.histplot(logregress_df['Age'], color='blue')\n",
    "plt.show()\n",
    "sns.boxplot(x=logregress_df['Age'], color='blue')\n",
    "plt.show();\n",
    "\n",
    "sns.histplot(logregress_df['VitD_levels'], color='blue')\n",
    "plt.show()\n",
    "sns.boxplot(x=logregress_df['VitD_levels'], color='blue')\n",
    "plt.show();\n",
    "\n",
    "sns.histplot(logregress_df['Doc_visits'], color='blue')\n",
    "plt.show()\n",
    "sns.boxplot(x=logregress_df['Doc_visits'], color='blue')\n",
    "plt.show();\n",
    "\n",
    "sns.histplot(logregress_df['Initial_days'], color='blue')\n",
    "plt.show()\n",
    "sns.boxplot(x=logregress_df['Initial_days'], color='blue')\n",
    "plt.show();\n",
    "\n",
    "sns.histplot(logregress_df['TotalCharge'], color='blue')\n",
    "plt.show()\n",
    "sns.boxplot(x=logregress_df['TotalCharge'], color='blue')\n",
    "plt.show();"
   ]
  },
  {
   "cell_type": "code",
   "execution_count": null,
   "id": "827a2457-654e-4b0d-aecb-c1a4fb0928d9",
   "metadata": {},
   "outputs": [],
   "source": [
    "#C3 Bivariate Visualizations - Comparing Soft_drink to a Categorical Variable\n",
    "crosstab = pd.crosstab(logregress_df['Soft_drink'], logregress_df['gender_male'])\n",
    "sns.heatmap(crosstab, annot=True, fmt='d', cmap='YlGnBu')\n",
    "plt.title('Heatmap of Soft_drink by gender_male')\n",
    "plt.show();\n",
    "\n",
    "crosstab = pd.crosstab(logregress_df['Soft_drink'], logregress_df['gender_nonbinary'])\n",
    "sns.heatmap(crosstab, annot=True, fmt='d', cmap='YlGnBu')\n",
    "plt.title('Heatmap of Soft_drink by gender_nonbinary')\n",
    "plt.show();\n",
    "\n",
    "crosstab = pd.crosstab(logregress_df['Soft_drink'], logregress_df['HighBlood'])\n",
    "sns.heatmap(crosstab, annot=True, fmt='d', cmap='YlGnBu')\n",
    "plt.title('Heatmap of Soft_drink by HighBlood')\n",
    "plt.show();\n",
    "\n",
    "crosstab = pd.crosstab(logregress_df['Soft_drink'], logregress_df['initial_admit_observ'])\n",
    "sns.heatmap(crosstab, annot=True, fmt='d', cmap='YlGnBu')\n",
    "plt.title('Heatmap of Soft_drink by initial_admit_observ')\n",
    "plt.show();\n",
    "\n",
    "crosstab = pd.crosstab(logregress_df['Soft_drink'], logregress_df['initial_admit_emerg'])\n",
    "sns.heatmap(crosstab, annot=True, fmt='d', cmap='YlGnBu')\n",
    "plt.title('Heatmap of Soft_drink by initial_admit_emerg')\n",
    "plt.show();\n",
    "\n",
    "crosstab = pd.crosstab(logregress_df['Soft_drink'], logregress_df['comp_risk_low'])\n",
    "sns.heatmap(crosstab, annot=True, fmt='d', cmap='YlGnBu')\n",
    "plt.title('Heatmap of Soft_drink by comp_risk_low')\n",
    "plt.show();\n",
    "\n",
    "crosstab = pd.crosstab(logregress_df['Soft_drink'], logregress_df['comp_risk_medium'])\n",
    "sns.heatmap(crosstab, annot=True, fmt='d', cmap='YlGnBu')\n",
    "plt.title('Heatmap of Soft_drink by comp_risk_medium')\n",
    "plt.show();\n",
    "\n",
    "crosstab = pd.crosstab(logregress_df['Soft_drink'], logregress_df['Stroke'])\n",
    "sns.heatmap(crosstab, annot=True, fmt='d', cmap='YlGnBu')\n",
    "plt.title('Heatmap of Soft_drink by Stroke')\n",
    "plt.show();\n",
    "\n",
    "crosstab = pd.crosstab(logregress_df['Soft_drink'], logregress_df['Overweight'])\n",
    "sns.heatmap(crosstab, annot=True, fmt='d', cmap='YlGnBu')\n",
    "plt.title('Heatmap of Soft_drink by Overweight')\n",
    "plt.show();\n",
    "\n",
    "crosstab = pd.crosstab(logregress_df['Soft_drink'], logregress_df['Arthritis'])\n",
    "sns.heatmap(crosstab, annot=True, fmt='d', cmap='YlGnBu')\n",
    "plt.title('Heatmap of Soft_drink by Arthritis')\n",
    "plt.show();\n",
    "\n",
    "crosstab = pd.crosstab(logregress_df['Soft_drink'], logregress_df['Diabetes'])\n",
    "sns.heatmap(crosstab, annot=True, fmt='d', cmap='YlGnBu')\n",
    "plt.title('Heatmap of Soft_drink by Diabetes')\n",
    "plt.show();\n",
    "\n",
    "crosstab = pd.crosstab(logregress_df['Soft_drink'], logregress_df['Hyperlipidemia'])\n",
    "sns.heatmap(crosstab, annot=True, fmt='d', cmap='YlGnBu')\n",
    "plt.title('Heatmap of Soft_drink by Hyperlipidemia')\n",
    "plt.show();\n",
    "\n",
    "crosstab = pd.crosstab(logregress_df['Soft_drink'], logregress_df['BackPain'])\n",
    "sns.heatmap(crosstab, annot=True, fmt='d', cmap='YlGnBu')\n",
    "plt.title('Heatmap of Soft_drink by BackPain')\n",
    "plt.show();\n",
    "\n",
    "crosstab = pd.crosstab(logregress_df['Soft_drink'], logregress_df['Anxiety'])\n",
    "sns.heatmap(crosstab, annot=True, fmt='d', cmap='YlGnBu')\n",
    "plt.title('Heatmap of Soft_drink by Anxiety')\n",
    "plt.show();\n",
    "\n",
    "crosstab = pd.crosstab(logregress_df['Soft_drink'], logregress_df['Asthma'])\n",
    "sns.heatmap(crosstab, annot=True, fmt='d', cmap='YlGnBu')\n",
    "plt.title('Heatmap of Soft_drink by Asthma')\n",
    "plt.show();"
   ]
  },
  {
   "cell_type": "code",
   "execution_count": null,
   "id": "767c82f5-6c12-42fd-95e0-9667d81be12d",
   "metadata": {},
   "outputs": [],
   "source": [
    "#C3 Bivariate Visualizations - Comparing Soft_drink to a Continuous Variable\n",
    "plt.figure(figsize=(12, 6))\n",
    "plt.title(\"Relationship of Doc_visits vs Soft_drink\")\n",
    "sns.countplot(data = logregress_df, x=\"Doc_visits\", hue=\"Soft_drink\")\n",
    "plt.legend(labels=[\"No\", \"Yes\"])\n",
    "plt.xlabel(\"Doc_visits\")\n",
    "plt.ylabel(\"Soft Drink Consumption\");"
   ]
  },
  {
   "cell_type": "code",
   "execution_count": null,
   "id": "ce0ab7ff-0e25-45c7-b69b-2b5bb48d18ff",
   "metadata": {},
   "outputs": [],
   "source": [
    "#C3 Bivariate Visualizations - Comparing Soft_drink to a Continuous Variable\n",
    "plt.figure(figsize=(10, 6))\n",
    "sns.boxplot(data=logregress_df, x='Soft_drink', y='VitD_levels')\n",
    "plt.title('Box Plot of Vitamin D Levels by Soft Drink Consumption')\n",
    "plt.xlabel(\"Drinks Soft Drinks = 1\")\n",
    "plt.ylabel('VitD_levels')\n",
    "plt.show();\n",
    "\n",
    "plt.figure(figsize=(10, 6))\n",
    "sns.boxplot(data=logregress_df, x='Soft_drink', y='Age')\n",
    "plt.title('Box Plot of Age by Soft Drink Consumption')\n",
    "plt.xlabel(\"Drinks Soft Drinks = 1\")\n",
    "plt.ylabel('Age')\n",
    "plt.show();\n",
    "\n",
    "plt.figure(figsize=(10, 6))\n",
    "sns.boxplot(data=logregress_df, x='Soft_drink', y='Initial_days')\n",
    "plt.title('Box Plot of Initial_days by Soft Drink Consumption')\n",
    "plt.xlabel(\"Drinks Soft Drinks = 1\")\n",
    "plt.ylabel('Initial_days')\n",
    "plt.show();\n",
    "\n",
    "plt.figure(figsize=(10, 6))\n",
    "sns.boxplot(data=logregress_df, x='Soft_drink', y='TotalCharge')\n",
    "plt.title('Box Plot of TotalCharge by Soft Drink Consumption')\n",
    "plt.xlabel(\"Drinks Soft Drinks = 1\")\n",
    "plt.ylabel('TotalCharge')\n",
    "plt.show();"
   ]
  },
  {
   "cell_type": "code",
   "execution_count": null,
   "id": "617a096d-045c-4741-8760-375ad24f584d",
   "metadata": {},
   "outputs": [],
   "source": [
    "print(logregress_df.head())"
   ]
  },
  {
   "cell_type": "code",
   "execution_count": null,
   "id": "30649a68-0d61-4434-86d9-7580c4a9e627",
   "metadata": {},
   "outputs": [],
   "source": [
    "#Checking Data Types prior to creating our model\n",
    "print(logregress_df.dtypes)"
   ]
  },
  {
   "cell_type": "code",
   "execution_count": null,
   "id": "b7d72dd7-2437-4eb6-9688-5decdd9072bd",
   "metadata": {},
   "outputs": [],
   "source": [
    "#Converting Boolean data types to Numeric\n",
    "def convert_to_numeric(logregress_df):\n",
    "    for col in logregress_df.columns:\n",
    "        if logregress_df[col].dtype == 'bool':  # Check if the column is boolean\n",
    "            logregress_df.loc[:, col] = logregress_df[col].astype(int)  # Convert boolean to int\n",
    "        else:\n",
    "            logregress_df.loc[:, col] = pd.to_numeric(logregress_df[col], errors='coerce')  # Convert to numeric, setting errors to NaN\n",
    "    return logregress_df\n",
    "\n",
    "log_regression_df = convert_to_numeric(logregress_df)"
   ]
  },
  {
   "cell_type": "code",
   "execution_count": null,
   "id": "aa3771f6-5fc7-41c9-aa36-579884a0b339",
   "metadata": {},
   "outputs": [],
   "source": [
    "#Check data types of all columns\n",
    "print(\"Data types after conversion:\")\n",
    "print(log_regression_df.dtypes)"
   ]
  },
  {
   "cell_type": "code",
   "execution_count": null,
   "id": "657bfed2-8fe1-427a-9fff-170879dffa4b",
   "metadata": {},
   "outputs": [],
   "source": [
    "#C5 Export Data Frames as CSV files\n",
    "df.to_csv('task2_full_clean.csv', index=False)\n",
    "log_regression_df.to_csv('task2_log_regression_clean.csv', index=False)"
   ]
  },
  {
   "cell_type": "markdown",
   "id": "ccd73941-4a37-4e29-be60-ad8a8b4ace8c",
   "metadata": {},
   "source": [
    "Part 4: Model Comparision for D1, D2, and D3"
   ]
  },
  {
   "cell_type": "code",
   "execution_count": null,
   "id": "4337af69-31d5-4180-b9f2-27817825e81b",
   "metadata": {},
   "outputs": [],
   "source": [
    "#Initial Log Model\n",
    "#Set dependent variable for Y\n",
    "y = log_regression_df.Soft_drink\n",
    "\n",
    "#Set multiple independent variables for X and add constant\n",
    "X = log_regression_df[[\"Age\", \"gender_male\", \"gender_nonbinary\", \"VitD_levels\", \"Doc_visits\", \"HighBlood\", \n",
    "                \"initial_admit_observ\", \"initial_admit_emerg\", \"Stroke\", \"Overweight\", \"Arthritis\", \"comp_risk_low\", \n",
    "                \"comp_risk_medium\", \"Diabetes\", \"Hyperlipidemia\", \"BackPain\", \"Anxiety\", \"Asthma\", \"Initial_days\", \"TotalCharge\"]]\n",
    "\n",
    "X = sm.add_constant(X)  # This will add a constant column\n",
    "\n",
    "#Double checking that all X columns are numeric\n",
    "X = X.apply(pd.to_numeric, errors='coerce')\n",
    "\n",
    "#Fit and print the model\n",
    "logit_model=sm.Logit(y,X)\n",
    "result=logit_model.fit()\n",
    "print(result.summary())"
   ]
  },
  {
   "cell_type": "code",
   "execution_count": null,
   "id": "3f365b47-a05a-4cc2-9a6f-b2d6e859a053",
   "metadata": {},
   "outputs": [],
   "source": [
    "log_regression_df.isnull().sum()"
   ]
  },
  {
   "cell_type": "code",
   "execution_count": null,
   "id": "c69eb717-90cd-43f5-990b-567efa72d82a",
   "metadata": {},
   "outputs": [],
   "source": [
    "#Checking for Multicollinearity using VIF due to having NaN values in the results and there is no columns with NaN values\n",
    "X = log_regression_df[[\"Age\", \"gender_male\", \"gender_nonbinary\", \"VitD_levels\", \"Doc_visits\", \"HighBlood\", \n",
    "                \"initial_admit_observ\", \"initial_admit_emerg\", \"Stroke\", \"Overweight\", \"Arthritis\", \"comp_risk_low\", \n",
    "                \"comp_risk_medium\", \"Diabetes\", \"Hyperlipidemia\", \"BackPain\", \"Anxiety\", \"Asthma\", \"Initial_days\", \"TotalCharge\"]]\n",
    "\n",
    "vif_df = pd.DataFrame()\n",
    "vif_df[\"feature\"] = X.columns\n",
    "\n",
    "vif_df[\"VIF\"] = [variance_inflation_factor(X.values, i)\n",
    "for i in range(len(X.columns))]\n",
    "\n",
    "print(vif_df)"
   ]
  },
  {
   "cell_type": "code",
   "execution_count": null,
   "id": "f5e71629-9b3c-4162-823a-3a928fcda643",
   "metadata": {},
   "outputs": [],
   "source": [
    "#Checking VIF after removing gender_nonbinary\n",
    "X = log_regression_df[[\"Age\", \"gender_male\", \"VitD_levels\", \"Doc_visits\", \"HighBlood\", \n",
    "                \"initial_admit_observ\", \"initial_admit_emerg\", \"Stroke\", \"Overweight\", \"Arthritis\", \"comp_risk_low\", \n",
    "                \"comp_risk_medium\", \"Diabetes\", \"Hyperlipidemia\", \"BackPain\", \"Anxiety\", \"Asthma\", \"Initial_days\", \"TotalCharge\"]]\n",
    "\n",
    "vif_df = pd.DataFrame()\n",
    "vif_df[\"feature\"] = X.columns\n",
    "\n",
    "vif_df[\"VIF\"] = [variance_inflation_factor(X.values, i)\n",
    "for i in range(len(X.columns))]\n",
    "\n",
    "print(vif_df)"
   ]
  },
  {
   "cell_type": "code",
   "execution_count": null,
   "id": "f66fc285-018e-4870-b049-6cd98d2a04db",
   "metadata": {},
   "outputs": [],
   "source": [
    "#Second run of Log Model - Without gender_nonbinary Variable do to high VIF hoping for no NaN values in results table.\n",
    "#Set dependent variable for Y\n",
    "y = log_regression_df.Soft_drink\n",
    "\n",
    "#Set multiple independent variables for X and add constant\n",
    "X = log_regression_df[[\"Age\", \"gender_male\", \"VitD_levels\", \"Doc_visits\", \"HighBlood\", \n",
    "                \"initial_admit_observ\", \"initial_admit_emerg\", \"Stroke\", \"Overweight\", \"Arthritis\", \"comp_risk_low\", \n",
    "                \"comp_risk_medium\", \"Diabetes\", \"Hyperlipidemia\", \"BackPain\", \"Anxiety\", \"Asthma\", \"Initial_days\", \"TotalCharge\"]]\n",
    "\n",
    "X = sm.add_constant(X)  # This will add a constant column\n",
    "\n",
    "#Double checking that all X columns are numeric\n",
    "X = X.apply(pd.to_numeric, errors='coerce')\n",
    "\n",
    "#Fit and print the model\n",
    "logit_model=sm.Logit(y,X)\n",
    "result=logit_model.fit()\n",
    "print(result.summary())"
   ]
  },
  {
   "cell_type": "code",
   "execution_count": null,
   "id": "c000ce06-18bb-4bde-80c2-c3c10e21008f",
   "metadata": {},
   "outputs": [],
   "source": [
    "#Now that the model results contain no NaN values lets check VIF again and start reducing the model\n",
    "X = log_regression_df[[\"Age\", \"gender_male\", \"VitD_levels\", \"Doc_visits\", \"HighBlood\", \n",
    "                \"initial_admit_observ\", \"initial_admit_emerg\", \"Stroke\", \"Overweight\", \"Arthritis\", \"comp_risk_low\", \n",
    "                \"comp_risk_medium\", \"Diabetes\", \"Hyperlipidemia\", \"BackPain\", \"Anxiety\", \"Asthma\", \"Initial_days\", \"TotalCharge\"]]\n",
    "\n",
    "vif_df = pd.DataFrame()\n",
    "vif_df[\"feature\"] = X.columns\n",
    "\n",
    "vif_df[\"VIF\"] = [variance_inflation_factor(X.values, i)\n",
    "for i in range(len(X.columns))]\n",
    "\n",
    "print(vif_df)"
   ]
  },
  {
   "cell_type": "code",
   "execution_count": null,
   "id": "bca82d3e-ee18-4b21-b4a1-7835e4581ca1",
   "metadata": {},
   "outputs": [],
   "source": [
    "#Removing TotalCharge (VIF=716.952843)\n",
    "X = log_regression_df[[\"Age\", \"gender_male\", \"VitD_levels\", \"Doc_visits\", \"HighBlood\", \n",
    "                \"initial_admit_observ\", \"initial_admit_emerg\", \"Stroke\", \"Overweight\", \"Arthritis\", \"comp_risk_low\", \n",
    "                \"comp_risk_medium\", \"Diabetes\", \"Hyperlipidemia\", \"BackPain\", \"Anxiety\", \"Asthma\", \"Initial_days\"]]\n",
    "\n",
    "vif_df = pd.DataFrame()\n",
    "vif_df[\"feature\"] = X.columns\n",
    "\n",
    "vif_df[\"VIF\"] = [variance_inflation_factor(X.values, i)\n",
    "for i in range(len(X.columns))]\n",
    "\n",
    "print(vif_df)"
   ]
  },
  {
   "cell_type": "code",
   "execution_count": null,
   "id": "12487eab-9d36-4640-a46b-11b74921bbbc",
   "metadata": {},
   "outputs": [],
   "source": [
    "#Removing VitD_levels (VIF=29.159622)\n",
    "X = log_regression_df[[\"Age\", \"gender_male\", \"Doc_visits\", \"HighBlood\", \n",
    "                \"initial_admit_observ\", \"initial_admit_emerg\", \"Stroke\", \"Overweight\", \"Arthritis\", \"comp_risk_low\", \n",
    "                \"comp_risk_medium\", \"Diabetes\", \"Hyperlipidemia\", \"BackPain\", \"Anxiety\", \"Asthma\", \"Initial_days\"]]\n",
    "\n",
    "vif_df = pd.DataFrame()\n",
    "vif_df[\"feature\"] = X.columns\n",
    "\n",
    "vif_df[\"VIF\"] = [variance_inflation_factor(X.values, i)\n",
    "for i in range(len(X.columns))]\n",
    "\n",
    "print(vif_df)"
   ]
  },
  {
   "cell_type": "code",
   "execution_count": null,
   "id": "7986866e-2a01-4bf8-b095-fd853ab5c0d3",
   "metadata": {},
   "outputs": [],
   "source": [
    "#Removing Doc_visits is still above 10 (VIF=11.658344)\n",
    "X = log_regression_df[[\"Age\", \"gender_male\", \"HighBlood\", \"initial_admit_observ\", \"initial_admit_emerg\", \"Stroke\", \n",
    "                       \"Overweight\", \"Arthritis\", \"comp_risk_low\", \"comp_risk_medium\", \"Diabetes\", \"Hyperlipidemia\", \n",
    "                       \"BackPain\", \"Anxiety\", \"Asthma\", \"Initial_days\"]]\n",
    "\n",
    "vif_df = pd.DataFrame()\n",
    "vif_df[\"feature\"] = X.columns\n",
    "\n",
    "vif_df[\"VIF\"] = [variance_inflation_factor(X.values, i)\n",
    "for i in range(len(X.columns))]\n",
    "\n",
    "print(vif_df)"
   ]
  },
  {
   "cell_type": "code",
   "execution_count": null,
   "id": "b8d90e97-f51f-4b4b-bd12-853dea1fdc3b",
   "metadata": {},
   "outputs": [],
   "source": [
    "#Backwards Elimination #1: Looking for p-value above 0.05\n",
    "y = log_regression_df.Soft_drink\n",
    "X = log_regression_df[[\"Age\", \"gender_male\", \"HighBlood\", \"initial_admit_observ\", \"initial_admit_emerg\", \"Stroke\", \n",
    "                       \"Overweight\", \"Arthritis\", \"comp_risk_low\", \"comp_risk_medium\", \"Diabetes\", \"Hyperlipidemia\", \n",
    "                       \"BackPain\", \"Anxiety\", \"Asthma\", \"Initial_days\"]].assign(const=1)\n",
    "logit_model=sm.Logit(y,X)\n",
    "result=logit_model.fit()\n",
    "print(result.summary())"
   ]
  },
  {
   "cell_type": "code",
   "execution_count": null,
   "id": "8cebbcb9-0f94-4763-97b8-57f42decc17d",
   "metadata": {},
   "outputs": [],
   "source": [
    "#Backwards Elimination #2: Removed Stroke variable (p value > 0.05)\n",
    "y = log_regression_df.Soft_drink\n",
    "X = log_regression_df[[\"Age\", \"gender_male\", \"HighBlood\", \"initial_admit_observ\", \"initial_admit_emerg\", \"Overweight\", \n",
    "                       \"Arthritis\", \"comp_risk_low\", \"comp_risk_medium\", \"Diabetes\", \"Hyperlipidemia\", \n",
    "                       \"BackPain\", \"Anxiety\", \"Asthma\", \"Initial_days\"]].assign(const=1)\n",
    "logit_model=sm.Logit(y,X)\n",
    "result=logit_model.fit()\n",
    "print(result.summary())"
   ]
  },
  {
   "cell_type": "code",
   "execution_count": null,
   "id": "235e6ff0-b153-473e-b7fd-0331c3ca5160",
   "metadata": {},
   "outputs": [],
   "source": [
    "#Backwards Elimination #3: Removed Age variable (p value > 0.05)\n",
    "y = log_regression_df.Soft_drink\n",
    "X = log_regression_df[[\"gender_male\", \"HighBlood\", \"initial_admit_observ\", \"initial_admit_emerg\", \"Overweight\", \n",
    "                       \"Arthritis\", \"comp_risk_low\", \"comp_risk_medium\", \"Diabetes\", \"Hyperlipidemia\", \n",
    "                       \"BackPain\", \"Anxiety\", \"Asthma\", \"Initial_days\"]].assign(const=1)\n",
    "logit_model=sm.Logit(y,X)\n",
    "result=logit_model.fit()\n",
    "print(result.summary())"
   ]
  },
  {
   "cell_type": "code",
   "execution_count": null,
   "id": "83ef40d1-0b41-462c-b60b-52b432b70ccc",
   "metadata": {},
   "outputs": [],
   "source": [
    "#Backwards Elimination #4: Removed Initial_days variable (p value > 0.05)\n",
    "y = log_regression_df.Soft_drink\n",
    "X = log_regression_df[[\"gender_male\", \"HighBlood\", \"initial_admit_observ\", \"initial_admit_emerg\", \"Overweight\", \n",
    "                       \"Arthritis\", \"comp_risk_low\", \"comp_risk_medium\", \"Diabetes\", \"Hyperlipidemia\", \n",
    "                       \"BackPain\", \"Anxiety\", \"Asthma\"]].assign(const=1)\n",
    "logit_model=sm.Logit(y,X)\n",
    "result=logit_model.fit()\n",
    "print(result.summary())"
   ]
  },
  {
   "cell_type": "code",
   "execution_count": null,
   "id": "2c9962a9-f818-47f7-b894-986c5f6859d9",
   "metadata": {},
   "outputs": [],
   "source": [
    "#Backwards Elimination #5: Removed comp_risk_low variable (p value > 0.05)\n",
    "y = log_regression_df.Soft_drink\n",
    "X = log_regression_df[[\"gender_male\", \"HighBlood\", \"initial_admit_observ\", \"initial_admit_emerg\", \"Overweight\", \n",
    "                       \"Arthritis\", \"comp_risk_medium\", \"Diabetes\", \"Hyperlipidemia\", \n",
    "                       \"BackPain\", \"Anxiety\", \"Asthma\"]].assign(const=1)\n",
    "logit_model=sm.Logit(y,X)\n",
    "result=logit_model.fit()\n",
    "print(result.summary())"
   ]
  },
  {
   "cell_type": "code",
   "execution_count": null,
   "id": "cdc02fa6-dd8c-4436-91c0-815d3ab6c6c6",
   "metadata": {},
   "outputs": [],
   "source": [
    "#Backwards Elimination #6: Removed Overweight variable (p value > 0.05)\n",
    "y = log_regression_df.Soft_drink\n",
    "X = log_regression_df[[\"gender_male\", \"HighBlood\", \"initial_admit_observ\", \"initial_admit_emerg\", \n",
    "                       \"Arthritis\", \"comp_risk_medium\", \"Diabetes\", \"Hyperlipidemia\", \n",
    "                       \"BackPain\", \"Anxiety\", \"Asthma\"]].assign(const=1)\n",
    "logit_model=sm.Logit(y,X)\n",
    "result=logit_model.fit()\n",
    "print(result.summary())"
   ]
  },
  {
   "cell_type": "code",
   "execution_count": null,
   "id": "90fd390a-97d7-436e-8555-640667f29c7c",
   "metadata": {},
   "outputs": [],
   "source": [
    "#Backwards Elimination #7: Removed gender_male variable (p value > 0.05)\n",
    "y = log_regression_df.Soft_drink\n",
    "X = log_regression_df[[\"HighBlood\", \"initial_admit_observ\", \"initial_admit_emerg\", \n",
    "                       \"Arthritis\", \"comp_risk_medium\", \"Diabetes\", \"Hyperlipidemia\", \n",
    "                       \"BackPain\", \"Anxiety\", \"Asthma\"]].assign(const=1)\n",
    "logit_model=sm.Logit(y,X)\n",
    "result=logit_model.fit()\n",
    "print(result.summary())"
   ]
  },
  {
   "cell_type": "code",
   "execution_count": null,
   "id": "141db54b-6669-4262-a41a-881346894919",
   "metadata": {},
   "outputs": [],
   "source": [
    "#Backwards Elimination #8: Removed HighBlood variable (p value > 0.05)\n",
    "y = log_regression_df.Soft_drink\n",
    "X = log_regression_df[[\"initial_admit_observ\", \"initial_admit_emerg\", \n",
    "                       \"Arthritis\", \"comp_risk_medium\", \"Diabetes\", \"Hyperlipidemia\", \n",
    "                       \"BackPain\", \"Anxiety\", \"Asthma\"]].assign(const=1)\n",
    "logit_model=sm.Logit(y,X)\n",
    "result=logit_model.fit()\n",
    "print(result.summary())"
   ]
  },
  {
   "cell_type": "code",
   "execution_count": null,
   "id": "5068c511-e136-4b01-8381-648e60a9dacd",
   "metadata": {},
   "outputs": [],
   "source": [
    "#Backwards Elimination #9: Removed Arthritis variable (p value > 0.05)\n",
    "y = log_regression_df.Soft_drink\n",
    "X = log_regression_df[[\"initial_admit_observ\", \"initial_admit_emerg\", \"comp_risk_medium\", \"Diabetes\", \"Hyperlipidemia\", \n",
    "                       \"BackPain\", \"Anxiety\", \"Asthma\"]].assign(const=1)\n",
    "logit_model=sm.Logit(y,X)\n",
    "result=logit_model.fit()\n",
    "print(result.summary())"
   ]
  },
  {
   "cell_type": "code",
   "execution_count": null,
   "id": "967a3ba3-be96-46c8-bffb-e03b7fb58d66",
   "metadata": {},
   "outputs": [],
   "source": [
    "#Backwards Elimination #10: Removed comp_risk_medium variable (p value > 0.05)\n",
    "y = log_regression_df.Soft_drink\n",
    "X = log_regression_df[[\"initial_admit_observ\", \"initial_admit_emerg\", \"Diabetes\", \"Hyperlipidemia\", \n",
    "                       \"BackPain\", \"Anxiety\", \"Asthma\"]].assign(const=1)\n",
    "logit_model=sm.Logit(y,X)\n",
    "result=logit_model.fit()\n",
    "print(result.summary())"
   ]
  },
  {
   "cell_type": "code",
   "execution_count": null,
   "id": "8cb62a27-7ca0-4582-9f1e-5ae11dc2b0dc",
   "metadata": {},
   "outputs": [],
   "source": [
    "#Backwards Elimination #11: Removed Asthma variable (p value > 0.05)\n",
    "y = log_regression_df.Soft_drink\n",
    "X = log_regression_df[[\"initial_admit_observ\", \"initial_admit_emerg\", \"Diabetes\", \"Hyperlipidemia\", \n",
    "                       \"BackPain\", \"Anxiety\"]].assign(const=1)\n",
    "logit_model=sm.Logit(y,X)\n",
    "result=logit_model.fit()\n",
    "print(result.summary())"
   ]
  },
  {
   "cell_type": "code",
   "execution_count": null,
   "id": "0b33eeb2-bf32-424a-acb1-ba5b14dcb7e8",
   "metadata": {},
   "outputs": [],
   "source": [
    "#Backwards Elimination #12: Removed initial_admit_emerg variable (p value > 0.05)\n",
    "y = log_regression_df.Soft_drink\n",
    "X = log_regression_df[[\"initial_admit_observ\", \"Diabetes\", \"Hyperlipidemia\", \n",
    "                       \"BackPain\", \"Anxiety\"]].assign(const=1)\n",
    "logit_model=sm.Logit(y,X)\n",
    "result=logit_model.fit()\n",
    "print(result.summary())"
   ]
  },
  {
   "cell_type": "code",
   "execution_count": null,
   "id": "f1a1c9d2-9e86-4d20-b744-3562e8b5441f",
   "metadata": {},
   "outputs": [],
   "source": [
    "#Backwards Elimination #13: Removed Anxiety variable (p value > 0.05)\n",
    "y = log_regression_df.Soft_drink\n",
    "X = log_regression_df[[\"initial_admit_observ\", \"Diabetes\", \"Hyperlipidemia\", \"BackPain\"]].assign(const=1)\n",
    "logit_model=sm.Logit(y,X)\n",
    "result=logit_model.fit()\n",
    "print(result.summary())"
   ]
  },
  {
   "cell_type": "code",
   "execution_count": null,
   "id": "5768d372-9e43-43ab-aae2-f4f931b94b48",
   "metadata": {},
   "outputs": [],
   "source": [
    "#Backwards Elimination #14: Removed Hyperlipidemia variable (p value > 0.05)\n",
    "y = log_regression_df.Soft_drink\n",
    "X = log_regression_df[[\"initial_admit_observ\", \"Diabetes\", \"BackPain\"]].assign(const=1)\n",
    "logit_model=sm.Logit(y,X)\n",
    "result=logit_model.fit()\n",
    "print(result.summary())"
   ]
  },
  {
   "cell_type": "code",
   "execution_count": null,
   "id": "b8d5fe90-5aa8-492b-9746-2705d7d83c23",
   "metadata": {},
   "outputs": [],
   "source": [
    "#Backwards Elimination #15: Removed Diabetes variable (p value > 0.05)\n",
    "y = log_regression_df.Soft_drink\n",
    "X = log_regression_df[[\"initial_admit_observ\", \"BackPain\"]].assign(const=1)\n",
    "logit_model=sm.Logit(y,X)\n",
    "result=logit_model.fit()\n",
    "print(result.summary())"
   ]
  },
  {
   "cell_type": "code",
   "execution_count": null,
   "id": "f0facd34-1da3-4a15-a5a7-076abdc2ba9e",
   "metadata": {},
   "outputs": [],
   "source": [
    "#Backwards Elimination #16: Removed BackPain variable (p value > 0.05)\n",
    "y = log_regression_df.Soft_drink\n",
    "X = log_regression_df[[\"initial_admit_observ\"]].assign(const=1)\n",
    "logit_model=sm.Logit(y,X)\n",
    "result=logit_model.fit()\n",
    "print(result.summary())"
   ]
  },
  {
   "cell_type": "code",
   "execution_count": null,
   "id": "10f726d8-bfef-48bd-8d76-902872ca10df",
   "metadata": {},
   "outputs": [],
   "source": [
    "#Final Reduced Log Regression Model\n",
    "y = log_regression_df.Soft_drink\n",
    "X = log_regression_df[[\"initial_admit_observ\"]].assign(const=1)\n",
    "logit_model=sm.Logit(y,X)\n",
    "result=logit_model.fit()\n",
    "print(result.summary())"
   ]
  },
  {
   "cell_type": "code",
   "execution_count": null,
   "id": "dcbc1aec-64b0-4df1-afa5-7049dd593556",
   "metadata": {},
   "outputs": [],
   "source": [
    "#Confusion Matrix on Test Size of 0.3\n",
    "X_train, X_test, y_train, y_test = train_test_split(X, y, test_size=0.3, random_state=42)\n",
    "logreg = LogisticRegression()\n",
    "logreg.fit(X_train, y_train)\n",
    "y_pred = logreg.predict(X_test)\n",
    "print('Accuracy of logistic regression classifier on test set: {:.2f}'.format(logreg.score(X_test, y_test)))\n",
    "final_matrix = confusion_matrix(y_test, y_pred)\n",
    "print(final_matrix)"
   ]
  },
  {
   "cell_type": "code",
   "execution_count": null,
   "id": "a6e2cb0e-a92c-4e28-8ff8-d59ff8c76cd3",
   "metadata": {},
   "outputs": [],
   "source": [
    "#Confusion Matrix on Test Size of 0.8\n",
    "X_train, X_test, y_train, y_test = train_test_split(X, y, test_size=0.8, random_state=42)\n",
    "logreg = LogisticRegression()\n",
    "logreg.fit(X_train, y_train)\n",
    "y_pred = logreg.predict(X_test)\n",
    "print('Accuracy of logistic regression classifier on test set: {:.2f}'.format(logreg.score(X_test, y_test)))\n",
    "final_matrix = confusion_matrix(y_test, y_pred)\n",
    "print(final_matrix)"
   ]
  },
  {
   "cell_type": "code",
   "execution_count": null,
   "id": "80a657ba-d968-43b7-a173-c6a752832c88",
   "metadata": {},
   "outputs": [],
   "source": [
    "result.params"
   ]
  },
  {
   "cell_type": "code",
   "execution_count": null,
   "id": "4319d5a4-237b-4f7c-b095-f927e1b8f917",
   "metadata": {},
   "outputs": [],
   "source": [
    "#F1 Calculate odds ratios for each coefficient and the change in odds for each independent variable in the reduced model\n",
    "#Odds ratio and change in odds for initial_admit_observ\n",
    "initial_admit_observ_odds_ratio = np.exp(-0.124824)\n",
    "initial_admit_observ_change_in_odds = (initial_admit_observ_odds_ratio - 1) * 100\n",
    "print(f\"The odds ratio for initial_admit_observ is {round(initial_admit_observ_odds_ratio, 4)}. \"\n",
    "      f\"Given this, the change in odds for being a Soft_drink drinker is {round(initial_admit_observ_change_in_odds, 4)}.\")"
   ]
  },
  {
   "cell_type": "code",
   "execution_count": null,
   "id": "7013d1da-6f8b-44f1-a1c0-73a6b4e0e69e",
   "metadata": {},
   "outputs": [],
   "source": []
  }
 ],
 "metadata": {
  "kernelspec": {
   "display_name": "anaconda-panel-2023.05-py310",
   "language": "python",
   "name": "conda-env-anaconda-panel-2023.05-py310-py"
  },
  "language_info": {
   "codemirror_mode": {
    "name": "ipython",
    "version": 3
   },
   "file_extension": ".py",
   "mimetype": "text/x-python",
   "name": "python",
   "nbconvert_exporter": "python",
   "pygments_lexer": "ipython3",
   "version": "3.11.5"
  }
 },
 "nbformat": 4,
 "nbformat_minor": 5
}
